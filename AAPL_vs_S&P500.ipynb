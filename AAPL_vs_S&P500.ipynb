{
  "nbformat": 4,
  "nbformat_minor": 0,
  "metadata": {
    "kernelspec": {
      "display_name": "Python 3",
      "language": "python",
      "name": "python3"
    },
    "language_info": {
      "codemirror_mode": {
        "name": "ipython",
        "version": 3
      },
      "file_extension": ".py",
      "mimetype": "text/x-python",
      "name": "python",
      "nbconvert_exporter": "python",
      "pygments_lexer": "ipython3",
      "version": "3.6.5"
    },
    "colab": {
      "name": "AAPL vs S&P500.ipynb",
      "provenance": []
    }
  },
  "cells": [
    {
      "cell_type": "markdown",
      "metadata": {
        "id": "YGEVqIEUm9li"
      },
      "source": [
        "# Risk of a Security | S&P500 vs AAPL"
      ]
    },
    {
      "cell_type": "code",
      "metadata": {
        "id": "PxlIVp4nm9lq"
      },
      "source": [
        "import numpy as np\n",
        "import pandas as pd\n",
        "from pandas_datareader import data as wb\n",
        "import matplotlib.pyplot as plt"
      ],
      "execution_count": null,
      "outputs": []
    },
    {
      "cell_type": "code",
      "metadata": {
        "id": "EJPnz2tum9lu"
      },
      "source": [
        "tickers = ['AAPL', '^GSPC']\n",
        "Security_data = pd.DataFrame()\n",
        "for t in tickers:\n",
        "    Security_data[t] = wb.DataReader(t, data_source = 'yahoo', start = '2007-1-1')['Adj Close']"
      ],
      "execution_count": null,
      "outputs": []
    },
    {
      "cell_type": "code",
      "metadata": {
        "id": "fAL0ASnLm9lv",
        "outputId": "3455457f-2e30-4d5c-832a-85d5e31389a7"
      },
      "source": [
        "Security_data.tail()"
      ],
      "execution_count": null,
      "outputs": [
        {
          "data": {
            "text/html": [
              "<div>\n",
              "<style scoped>\n",
              "    .dataframe tbody tr th:only-of-type {\n",
              "        vertical-align: middle;\n",
              "    }\n",
              "\n",
              "    .dataframe tbody tr th {\n",
              "        vertical-align: top;\n",
              "    }\n",
              "\n",
              "    .dataframe thead th {\n",
              "        text-align: right;\n",
              "    }\n",
              "</style>\n",
              "<table border=\"1\" class=\"dataframe\">\n",
              "  <thead>\n",
              "    <tr style=\"text-align: right;\">\n",
              "      <th></th>\n",
              "      <th>AAPL</th>\n",
              "      <th>^GSPC</th>\n",
              "    </tr>\n",
              "    <tr>\n",
              "      <th>Date</th>\n",
              "      <th></th>\n",
              "      <th></th>\n",
              "    </tr>\n",
              "  </thead>\n",
              "  <tbody>\n",
              "    <tr>\n",
              "      <th>2018-11-16</th>\n",
              "      <td>193.529999</td>\n",
              "      <td>2736.270020</td>\n",
              "    </tr>\n",
              "    <tr>\n",
              "      <th>2018-11-19</th>\n",
              "      <td>185.860001</td>\n",
              "      <td>2690.729980</td>\n",
              "    </tr>\n",
              "    <tr>\n",
              "      <th>2018-11-20</th>\n",
              "      <td>176.979996</td>\n",
              "      <td>2641.889893</td>\n",
              "    </tr>\n",
              "    <tr>\n",
              "      <th>2018-11-21</th>\n",
              "      <td>176.779999</td>\n",
              "      <td>2649.929932</td>\n",
              "    </tr>\n",
              "    <tr>\n",
              "      <th>2018-11-23</th>\n",
              "      <td>172.289993</td>\n",
              "      <td>2632.560059</td>\n",
              "    </tr>\n",
              "  </tbody>\n",
              "</table>\n",
              "</div>"
            ],
            "text/plain": [
              "                  AAPL        ^GSPC\n",
              "Date                               \n",
              "2018-11-16  193.529999  2736.270020\n",
              "2018-11-19  185.860001  2690.729980\n",
              "2018-11-20  176.979996  2641.889893\n",
              "2018-11-21  176.779999  2649.929932\n",
              "2018-11-23  172.289993  2632.560059"
            ]
          },
          "execution_count": 3,
          "metadata": {},
          "output_type": "execute_result"
        }
      ]
    },
    {
      "cell_type": "code",
      "metadata": {
        "id": "Pg6fQUMzm9ly"
      },
      "source": [
        "Security_returns = np.log(Security_data / Security_data.shift(1))\n",
        "# we take log returns because we will examine each company seperately at a given time frame and this approach will tell us \n",
        "# more about behaviour of a stock"
      ],
      "execution_count": null,
      "outputs": []
    },
    {
      "cell_type": "code",
      "metadata": {
        "id": "hWTCen6Rm9lz",
        "outputId": "766e1f83-a417-4927-a6ca-3f87b9e0d3d9"
      },
      "source": [
        "Security_returns"
      ],
      "execution_count": null,
      "outputs": [
        {
          "data": {
            "text/html": [
              "<div>\n",
              "<style scoped>\n",
              "    .dataframe tbody tr th:only-of-type {\n",
              "        vertical-align: middle;\n",
              "    }\n",
              "\n",
              "    .dataframe tbody tr th {\n",
              "        vertical-align: top;\n",
              "    }\n",
              "\n",
              "    .dataframe thead th {\n",
              "        text-align: right;\n",
              "    }\n",
              "</style>\n",
              "<table border=\"1\" class=\"dataframe\">\n",
              "  <thead>\n",
              "    <tr style=\"text-align: right;\">\n",
              "      <th></th>\n",
              "      <th>AAPL</th>\n",
              "      <th>^GSPC</th>\n",
              "    </tr>\n",
              "    <tr>\n",
              "      <th>Date</th>\n",
              "      <th></th>\n",
              "      <th></th>\n",
              "    </tr>\n",
              "  </thead>\n",
              "  <tbody>\n",
              "    <tr>\n",
              "      <th>2007-01-03</th>\n",
              "      <td>NaN</td>\n",
              "      <td>NaN</td>\n",
              "    </tr>\n",
              "    <tr>\n",
              "      <th>2007-01-04</th>\n",
              "      <td>0.021953</td>\n",
              "      <td>0.001228</td>\n",
              "    </tr>\n",
              "    <tr>\n",
              "      <th>2007-01-05</th>\n",
              "      <td>-0.007147</td>\n",
              "      <td>-0.006103</td>\n",
              "    </tr>\n",
              "    <tr>\n",
              "      <th>2007-01-08</th>\n",
              "      <td>0.004926</td>\n",
              "      <td>0.002218</td>\n",
              "    </tr>\n",
              "    <tr>\n",
              "      <th>2007-01-09</th>\n",
              "      <td>0.079800</td>\n",
              "      <td>-0.000517</td>\n",
              "    </tr>\n",
              "    <tr>\n",
              "      <th>2007-01-10</th>\n",
              "      <td>0.046746</td>\n",
              "      <td>0.001938</td>\n",
              "    </tr>\n",
              "    <tr>\n",
              "      <th>2007-01-11</th>\n",
              "      <td>-0.012448</td>\n",
              "      <td>0.006320</td>\n",
              "    </tr>\n",
              "    <tr>\n",
              "      <th>2007-01-12</th>\n",
              "      <td>-0.012394</td>\n",
              "      <td>0.004841</td>\n",
              "    </tr>\n",
              "    <tr>\n",
              "      <th>2007-01-16</th>\n",
              "      <td>0.025872</td>\n",
              "      <td>0.000817</td>\n",
              "    </tr>\n",
              "    <tr>\n",
              "      <th>2007-01-17</th>\n",
              "      <td>-0.022391</td>\n",
              "      <td>-0.000894</td>\n",
              "    </tr>\n",
              "    <tr>\n",
              "      <th>2007-01-18</th>\n",
              "      <td>-0.063928</td>\n",
              "      <td>-0.002975</td>\n",
              "    </tr>\n",
              "    <tr>\n",
              "      <th>2007-01-19</th>\n",
              "      <td>-0.006420</td>\n",
              "      <td>0.002891</td>\n",
              "    </tr>\n",
              "    <tr>\n",
              "      <th>2007-01-22</th>\n",
              "      <td>-0.019511</td>\n",
              "      <td>-0.005292</td>\n",
              "    </tr>\n",
              "    <tr>\n",
              "      <th>2007-01-23</th>\n",
              "      <td>-0.012639</td>\n",
              "      <td>0.003536</td>\n",
              "    </tr>\n",
              "    <tr>\n",
              "      <th>2007-01-24</th>\n",
              "      <td>0.011601</td>\n",
              "      <td>0.008466</td>\n",
              "    </tr>\n",
              "    <tr>\n",
              "      <th>2007-01-25</th>\n",
              "      <td>-0.005204</td>\n",
              "      <td>-0.011334</td>\n",
              "    </tr>\n",
              "    <tr>\n",
              "      <th>2007-01-26</th>\n",
              "      <td>-0.010138</td>\n",
              "      <td>-0.001209</td>\n",
              "    </tr>\n",
              "    <tr>\n",
              "      <th>2007-01-29</th>\n",
              "      <td>0.006537</td>\n",
              "      <td>-0.001098</td>\n",
              "    </tr>\n",
              "    <tr>\n",
              "      <th>2007-01-30</th>\n",
              "      <td>-0.004548</td>\n",
              "      <td>0.005755</td>\n",
              "    </tr>\n",
              "    <tr>\n",
              "      <th>2007-01-31</th>\n",
              "      <td>0.002102</td>\n",
              "      <td>0.006571</td>\n",
              "    </tr>\n",
              "    <tr>\n",
              "      <th>2007-02-01</th>\n",
              "      <td>-0.011615</td>\n",
              "      <td>0.005339</td>\n",
              "    </tr>\n",
              "    <tr>\n",
              "      <th>2007-02-02</th>\n",
              "      <td>0.000118</td>\n",
              "      <td>0.001693</td>\n",
              "    </tr>\n",
              "    <tr>\n",
              "      <th>2007-02-05</th>\n",
              "      <td>-0.009604</td>\n",
              "      <td>-0.000967</td>\n",
              "    </tr>\n",
              "    <tr>\n",
              "      <th>2007-02-06</th>\n",
              "      <td>0.002499</td>\n",
              "      <td>0.000698</td>\n",
              "    </tr>\n",
              "    <tr>\n",
              "      <th>2007-02-07</th>\n",
              "      <td>0.023489</td>\n",
              "      <td>0.001394</td>\n",
              "    </tr>\n",
              "    <tr>\n",
              "      <th>2007-02-08</th>\n",
              "      <td>0.000348</td>\n",
              "      <td>-0.001180</td>\n",
              "    </tr>\n",
              "    <tr>\n",
              "      <th>2007-02-09</th>\n",
              "      <td>-0.034350</td>\n",
              "      <td>-0.007102</td>\n",
              "    </tr>\n",
              "    <tr>\n",
              "      <th>2007-02-12</th>\n",
              "      <td>0.019150</td>\n",
              "      <td>-0.003267</td>\n",
              "    </tr>\n",
              "    <tr>\n",
              "      <th>2007-02-13</th>\n",
              "      <td>-0.002123</td>\n",
              "      <td>0.007569</td>\n",
              "    </tr>\n",
              "    <tr>\n",
              "      <th>2007-02-14</th>\n",
              "      <td>0.007059</td>\n",
              "      <td>0.007615</td>\n",
              "    </tr>\n",
              "    <tr>\n",
              "      <th>...</th>\n",
              "      <td>...</td>\n",
              "      <td>...</td>\n",
              "    </tr>\n",
              "    <tr>\n",
              "      <th>2018-10-12</th>\n",
              "      <td>0.035096</td>\n",
              "      <td>0.014106</td>\n",
              "    </tr>\n",
              "    <tr>\n",
              "      <th>2018-10-15</th>\n",
              "      <td>-0.021618</td>\n",
              "      <td>-0.005922</td>\n",
              "    </tr>\n",
              "    <tr>\n",
              "      <th>2018-10-16</th>\n",
              "      <td>0.021798</td>\n",
              "      <td>0.021268</td>\n",
              "    </tr>\n",
              "    <tr>\n",
              "      <th>2018-10-17</th>\n",
              "      <td>-0.004331</td>\n",
              "      <td>-0.000253</td>\n",
              "    </tr>\n",
              "    <tr>\n",
              "      <th>2018-10-18</th>\n",
              "      <td>-0.023651</td>\n",
              "      <td>-0.014496</td>\n",
              "    </tr>\n",
              "    <tr>\n",
              "      <th>2018-10-19</th>\n",
              "      <td>0.015115</td>\n",
              "      <td>-0.000361</td>\n",
              "    </tr>\n",
              "    <tr>\n",
              "      <th>2018-10-22</th>\n",
              "      <td>0.006091</td>\n",
              "      <td>-0.004309</td>\n",
              "    </tr>\n",
              "    <tr>\n",
              "      <th>2018-10-23</th>\n",
              "      <td>0.009383</td>\n",
              "      <td>-0.005527</td>\n",
              "    </tr>\n",
              "    <tr>\n",
              "      <th>2018-10-24</th>\n",
              "      <td>-0.034904</td>\n",
              "      <td>-0.031351</td>\n",
              "    </tr>\n",
              "    <tr>\n",
              "      <th>2018-10-25</th>\n",
              "      <td>0.021662</td>\n",
              "      <td>0.018454</td>\n",
              "    </tr>\n",
              "    <tr>\n",
              "      <th>2018-10-26</th>\n",
              "      <td>-0.016052</td>\n",
              "      <td>-0.017479</td>\n",
              "    </tr>\n",
              "    <tr>\n",
              "      <th>2018-10-29</th>\n",
              "      <td>-0.018949</td>\n",
              "      <td>-0.006581</td>\n",
              "    </tr>\n",
              "    <tr>\n",
              "      <th>2018-10-30</th>\n",
              "      <td>0.004982</td>\n",
              "      <td>0.015545</td>\n",
              "    </tr>\n",
              "    <tr>\n",
              "      <th>2018-10-31</th>\n",
              "      <td>0.025733</td>\n",
              "      <td>0.010793</td>\n",
              "    </tr>\n",
              "    <tr>\n",
              "      <th>2018-11-01</th>\n",
              "      <td>0.015236</td>\n",
              "      <td>0.010502</td>\n",
              "    </tr>\n",
              "    <tr>\n",
              "      <th>2018-11-02</th>\n",
              "      <td>-0.068633</td>\n",
              "      <td>-0.006337</td>\n",
              "    </tr>\n",
              "    <tr>\n",
              "      <th>2018-11-05</th>\n",
              "      <td>-0.028799</td>\n",
              "      <td>0.005585</td>\n",
              "    </tr>\n",
              "    <tr>\n",
              "      <th>2018-11-06</th>\n",
              "      <td>0.010756</td>\n",
              "      <td>0.006240</td>\n",
              "    </tr>\n",
              "    <tr>\n",
              "      <th>2018-11-07</th>\n",
              "      <td>0.029877</td>\n",
              "      <td>0.020987</td>\n",
              "    </tr>\n",
              "    <tr>\n",
              "      <th>2018-11-08</th>\n",
              "      <td>-0.003495</td>\n",
              "      <td>-0.002512</td>\n",
              "    </tr>\n",
              "    <tr>\n",
              "      <th>2018-11-09</th>\n",
              "      <td>-0.019470</td>\n",
              "      <td>-0.009242</td>\n",
              "    </tr>\n",
              "    <tr>\n",
              "      <th>2018-11-12</th>\n",
              "      <td>-0.051687</td>\n",
              "      <td>-0.019898</td>\n",
              "    </tr>\n",
              "    <tr>\n",
              "      <th>2018-11-13</th>\n",
              "      <td>-0.010042</td>\n",
              "      <td>-0.001483</td>\n",
              "    </tr>\n",
              "    <tr>\n",
              "      <th>2018-11-14</th>\n",
              "      <td>-0.028654</td>\n",
              "      <td>-0.007596</td>\n",
              "    </tr>\n",
              "    <tr>\n",
              "      <th>2018-11-15</th>\n",
              "      <td>0.024379</td>\n",
              "      <td>0.010538</td>\n",
              "    </tr>\n",
              "    <tr>\n",
              "      <th>2018-11-16</th>\n",
              "      <td>0.011015</td>\n",
              "      <td>0.002221</td>\n",
              "    </tr>\n",
              "    <tr>\n",
              "      <th>2018-11-19</th>\n",
              "      <td>-0.040439</td>\n",
              "      <td>-0.016783</td>\n",
              "    </tr>\n",
              "    <tr>\n",
              "      <th>2018-11-20</th>\n",
              "      <td>-0.048957</td>\n",
              "      <td>-0.018318</td>\n",
              "    </tr>\n",
              "    <tr>\n",
              "      <th>2018-11-21</th>\n",
              "      <td>-0.001131</td>\n",
              "      <td>0.003039</td>\n",
              "    </tr>\n",
              "    <tr>\n",
              "      <th>2018-11-23</th>\n",
              "      <td>-0.025727</td>\n",
              "      <td>-0.006576</td>\n",
              "    </tr>\n",
              "  </tbody>\n",
              "</table>\n",
              "<p>2996 rows × 2 columns</p>\n",
              "</div>"
            ],
            "text/plain": [
              "                AAPL     ^GSPC\n",
              "Date                          \n",
              "2007-01-03       NaN       NaN\n",
              "2007-01-04  0.021953  0.001228\n",
              "2007-01-05 -0.007147 -0.006103\n",
              "2007-01-08  0.004926  0.002218\n",
              "2007-01-09  0.079800 -0.000517\n",
              "2007-01-10  0.046746  0.001938\n",
              "2007-01-11 -0.012448  0.006320\n",
              "2007-01-12 -0.012394  0.004841\n",
              "2007-01-16  0.025872  0.000817\n",
              "2007-01-17 -0.022391 -0.000894\n",
              "2007-01-18 -0.063928 -0.002975\n",
              "2007-01-19 -0.006420  0.002891\n",
              "2007-01-22 -0.019511 -0.005292\n",
              "2007-01-23 -0.012639  0.003536\n",
              "2007-01-24  0.011601  0.008466\n",
              "2007-01-25 -0.005204 -0.011334\n",
              "2007-01-26 -0.010138 -0.001209\n",
              "2007-01-29  0.006537 -0.001098\n",
              "2007-01-30 -0.004548  0.005755\n",
              "2007-01-31  0.002102  0.006571\n",
              "2007-02-01 -0.011615  0.005339\n",
              "2007-02-02  0.000118  0.001693\n",
              "2007-02-05 -0.009604 -0.000967\n",
              "2007-02-06  0.002499  0.000698\n",
              "2007-02-07  0.023489  0.001394\n",
              "2007-02-08  0.000348 -0.001180\n",
              "2007-02-09 -0.034350 -0.007102\n",
              "2007-02-12  0.019150 -0.003267\n",
              "2007-02-13 -0.002123  0.007569\n",
              "2007-02-14  0.007059  0.007615\n",
              "...              ...       ...\n",
              "2018-10-12  0.035096  0.014106\n",
              "2018-10-15 -0.021618 -0.005922\n",
              "2018-10-16  0.021798  0.021268\n",
              "2018-10-17 -0.004331 -0.000253\n",
              "2018-10-18 -0.023651 -0.014496\n",
              "2018-10-19  0.015115 -0.000361\n",
              "2018-10-22  0.006091 -0.004309\n",
              "2018-10-23  0.009383 -0.005527\n",
              "2018-10-24 -0.034904 -0.031351\n",
              "2018-10-25  0.021662  0.018454\n",
              "2018-10-26 -0.016052 -0.017479\n",
              "2018-10-29 -0.018949 -0.006581\n",
              "2018-10-30  0.004982  0.015545\n",
              "2018-10-31  0.025733  0.010793\n",
              "2018-11-01  0.015236  0.010502\n",
              "2018-11-02 -0.068633 -0.006337\n",
              "2018-11-05 -0.028799  0.005585\n",
              "2018-11-06  0.010756  0.006240\n",
              "2018-11-07  0.029877  0.020987\n",
              "2018-11-08 -0.003495 -0.002512\n",
              "2018-11-09 -0.019470 -0.009242\n",
              "2018-11-12 -0.051687 -0.019898\n",
              "2018-11-13 -0.010042 -0.001483\n",
              "2018-11-14 -0.028654 -0.007596\n",
              "2018-11-15  0.024379  0.010538\n",
              "2018-11-16  0.011015  0.002221\n",
              "2018-11-19 -0.040439 -0.016783\n",
              "2018-11-20 -0.048957 -0.018318\n",
              "2018-11-21 -0.001131  0.003039\n",
              "2018-11-23 -0.025727 -0.006576\n",
              "\n",
              "[2996 rows x 2 columns]"
            ]
          },
          "execution_count": 5,
          "metadata": {},
          "output_type": "execute_result"
        }
      ]
    },
    {
      "cell_type": "markdown",
      "metadata": {
        "id": "Hmx_I7ZWm9lz"
      },
      "source": [
        "# AAPL"
      ]
    },
    {
      "cell_type": "code",
      "metadata": {
        "id": "JtztwG8mm9l0",
        "outputId": "cdd434b7-fe18-4be5-bae1-a4bd9115c413"
      },
      "source": [
        "Security_returns['AAPL'].mean()"
      ],
      "execution_count": null,
      "outputs": [
        {
          "data": {
            "text/plain": [
              "0.0010242528333235862"
            ]
          },
          "execution_count": 6,
          "metadata": {},
          "output_type": "execute_result"
        }
      ]
    },
    {
      "cell_type": "code",
      "metadata": {
        "id": "8qn-hYZ-m9l1",
        "outputId": "c12ef976-fbd6-47b3-8775-3096c34d0b76"
      },
      "source": [
        "Security_returns['AAPL'].mean() * 252\n",
        "# Annualizing Mean"
      ],
      "execution_count": null,
      "outputs": [
        {
          "data": {
            "text/plain": [
              "0.25811171399754373"
            ]
          },
          "execution_count": 7,
          "metadata": {},
          "output_type": "execute_result"
        }
      ]
    },
    {
      "cell_type": "code",
      "metadata": {
        "id": "Wzzkslh7m9l3",
        "outputId": "66a307d3-bc2c-423e-cc5d-9ed52c81c22f"
      },
      "source": [
        "Security_returns['AAPL'].std()\n",
        "# std is the function to call out standard deviation of returns"
      ],
      "execution_count": null,
      "outputs": [
        {
          "data": {
            "text/plain": [
              "0.019951274621660377"
            ]
          },
          "execution_count": 8,
          "metadata": {},
          "output_type": "execute_result"
        }
      ]
    },
    {
      "cell_type": "code",
      "metadata": {
        "id": "B0l2z9nHm9l4",
        "outputId": "4bba8c04-522f-43c9-f2c3-bb4f9af4af2f"
      },
      "source": [
        "Security_returns['AAPL'].std() * 252 ** 0.50\n",
        "# 252 ** 0.50 means square rooting 252 to take out standard deviation. "
      ],
      "execution_count": null,
      "outputs": [
        {
          "data": {
            "text/plain": [
              "0.31671666592600584"
            ]
          },
          "execution_count": 10,
          "metadata": {},
          "output_type": "execute_result"
        }
      ]
    },
    {
      "cell_type": "markdown",
      "metadata": {
        "id": "6EbHvDOam9l5"
      },
      "source": [
        "# S&P500"
      ]
    },
    {
      "cell_type": "code",
      "metadata": {
        "id": "OsDQiECXm9l6",
        "outputId": "51983551-8834-4f67-eb06-d5e965bc0bd3"
      },
      "source": [
        "Security_returns['^GSPC'].mean()"
      ],
      "execution_count": null,
      "outputs": [
        {
          "data": {
            "text/plain": [
              "0.00020691057160041786"
            ]
          },
          "execution_count": 11,
          "metadata": {},
          "output_type": "execute_result"
        }
      ]
    },
    {
      "cell_type": "code",
      "metadata": {
        "id": "xBtjoWkhm9l6",
        "outputId": "9cfa8589-49a1-432e-8d3a-a6b1224ea4ab"
      },
      "source": [
        "Security_returns['^GSPC'].mean() * 252"
      ],
      "execution_count": null,
      "outputs": [
        {
          "data": {
            "text/plain": [
              "0.0521414640433053"
            ]
          },
          "execution_count": 12,
          "metadata": {},
          "output_type": "execute_result"
        }
      ]
    },
    {
      "cell_type": "code",
      "metadata": {
        "id": "1Gpv7jg-m9l7",
        "outputId": "0594b1af-564c-4ffd-9b18-94e12919e6f0"
      },
      "source": [
        "Security_returns['^GSPC'].std()"
      ],
      "execution_count": null,
      "outputs": [
        {
          "data": {
            "text/plain": [
              "0.012452956537680217"
            ]
          },
          "execution_count": 13,
          "metadata": {},
          "output_type": "execute_result"
        }
      ]
    },
    {
      "cell_type": "code",
      "metadata": {
        "id": "Nan6SXnym9l7",
        "outputId": "22a56863-20b6-41ab-bcee-592d54895e65"
      },
      "source": [
        "Security_returns['^GSPC'].std() * 252 ** 0.50"
      ],
      "execution_count": null,
      "outputs": [
        {
          "data": {
            "text/plain": [
              "0.1976845565171868"
            ]
          },
          "execution_count": 14,
          "metadata": {},
          "output_type": "execute_result"
        }
      ]
    },
    {
      "cell_type": "markdown",
      "metadata": {
        "id": "0-8rGS-qm9l8"
      },
      "source": [
        "# AAPL vs S&P500"
      ]
    },
    {
      "cell_type": "code",
      "metadata": {
        "id": "QKyNmuK_m9l8",
        "outputId": "18463c43-fee2-45ad-8086-cf9653b78409"
      },
      "source": [
        "print(Security_returns['AAPL'].mean() * 252)\n",
        "print(Security_returns['^GSPC'].mean() * 252)"
      ],
      "execution_count": null,
      "outputs": [
        {
          "name": "stdout",
          "output_type": "stream",
          "text": [
            "0.25811171399754373\n",
            "0.0521414640433053\n"
          ]
        }
      ]
    },
    {
      "cell_type": "code",
      "metadata": {
        "id": "pYXc-eWZm9l9",
        "outputId": "1232bc7a-2c5f-4a87-d69c-9d1731cc25e5"
      },
      "source": [
        "Security_returns[['AAPL', '^GSPC']].mean() * 252\n",
        "# Annualizing daily returns"
      ],
      "execution_count": null,
      "outputs": [
        {
          "data": {
            "text/plain": [
              "AAPL     0.258112\n",
              "^GSPC    0.052141\n",
              "dtype: float64"
            ]
          },
          "execution_count": 17,
          "metadata": {},
          "output_type": "execute_result"
        }
      ]
    },
    {
      "cell_type": "code",
      "metadata": {
        "id": "Iv4txVw4m9l9",
        "outputId": "0d4e114e-5306-4f76-b391-738d92503de3"
      },
      "source": [
        "Security_returns[['AAPL', '^GSPC']].std() * 252 ** 0.50"
      ],
      "execution_count": null,
      "outputs": [
        {
          "data": {
            "text/plain": [
              "AAPL     0.316717\n",
              "^GSPC    0.197685\n",
              "dtype: float64"
            ]
          },
          "execution_count": 18,
          "metadata": {},
          "output_type": "execute_result"
        }
      ]
    },
    {
      "cell_type": "code",
      "metadata": {
        "id": "EWAfbEB4m9l9",
        "outputId": "a6f5645b-e647-4e88-f016-aaeed5819f8f"
      },
      "source": [
        "AAPL_var = Security_returns['AAPL'].var()\n",
        "AAPL_var"
      ],
      "execution_count": null,
      "outputs": [
        {
          "data": {
            "text/plain": [
              "0.0003980533590289094"
            ]
          },
          "execution_count": 19,
          "metadata": {},
          "output_type": "execute_result"
        }
      ]
    },
    {
      "cell_type": "code",
      "metadata": {
        "id": "5umtD7iwm9l-",
        "outputId": "35b67823-7403-47c8-995b-1c41695c7f2b"
      },
      "source": [
        "sp500_var = Security_returns['^GSPC'].var()\n",
        "sp500_var"
      ],
      "execution_count": null,
      "outputs": [
        {
          "data": {
            "text/plain": [
              "0.00015507612652935246"
            ]
          },
          "execution_count": 21,
          "metadata": {},
          "output_type": "execute_result"
        }
      ]
    },
    {
      "cell_type": "code",
      "metadata": {
        "id": "leNVrlZem9l-",
        "outputId": "c1237157-99d3-46da-820b-8678ebac4aeb"
      },
      "source": [
        "AAPL_var_annual = Security_returns['AAPL'].var() * 252\n",
        "AAPL_var_annual"
      ],
      "execution_count": null,
      "outputs": [
        {
          "data": {
            "text/plain": [
              "0.10030944647528517"
            ]
          },
          "execution_count": 22,
          "metadata": {},
          "output_type": "execute_result"
        }
      ]
    },
    {
      "cell_type": "code",
      "metadata": {
        "id": "6qQfPoBim9l_",
        "outputId": "5c7d64ca-b020-4aaa-cd72-fb8c91cd331e"
      },
      "source": [
        "sp500_var_annual = Security_returns['^GSPC'].var() * 252\n",
        "sp500_var_annual"
      ],
      "execution_count": null,
      "outputs": [
        {
          "data": {
            "text/plain": [
              "0.03907918388539682"
            ]
          },
          "execution_count": 23,
          "metadata": {},
          "output_type": "execute_result"
        }
      ]
    },
    {
      "cell_type": "code",
      "metadata": {
        "id": "R-IaZB0Um9l_",
        "outputId": "df6d355f-7855-4372-dc43-bdf72c95b92d"
      },
      "source": [
        "cov_matrix = Security_returns.cov()\n",
        "cov_matrix"
      ],
      "execution_count": null,
      "outputs": [
        {
          "data": {
            "text/html": [
              "<div>\n",
              "<style scoped>\n",
              "    .dataframe tbody tr th:only-of-type {\n",
              "        vertical-align: middle;\n",
              "    }\n",
              "\n",
              "    .dataframe tbody tr th {\n",
              "        vertical-align: top;\n",
              "    }\n",
              "\n",
              "    .dataframe thead th {\n",
              "        text-align: right;\n",
              "    }\n",
              "</style>\n",
              "<table border=\"1\" class=\"dataframe\">\n",
              "  <thead>\n",
              "    <tr style=\"text-align: right;\">\n",
              "      <th></th>\n",
              "      <th>AAPL</th>\n",
              "      <th>^GSPC</th>\n",
              "    </tr>\n",
              "  </thead>\n",
              "  <tbody>\n",
              "    <tr>\n",
              "      <th>AAPL</th>\n",
              "      <td>0.000398</td>\n",
              "      <td>0.000151</td>\n",
              "    </tr>\n",
              "    <tr>\n",
              "      <th>^GSPC</th>\n",
              "      <td>0.000151</td>\n",
              "      <td>0.000155</td>\n",
              "    </tr>\n",
              "  </tbody>\n",
              "</table>\n",
              "</div>"
            ],
            "text/plain": [
              "           AAPL     ^GSPC\n",
              "AAPL   0.000398  0.000151\n",
              "^GSPC  0.000151  0.000155"
            ]
          },
          "execution_count": 24,
          "metadata": {},
          "output_type": "execute_result"
        }
      ]
    },
    {
      "cell_type": "code",
      "metadata": {
        "id": "a2f98Mo9m9l_",
        "outputId": "92cf33ad-73fb-4750-9d23-58d2a770832d"
      },
      "source": [
        "cov_matrix_annual = Security_returns.cov() * 252\n",
        "cov_matrix_annual"
      ],
      "execution_count": null,
      "outputs": [
        {
          "data": {
            "text/html": [
              "<div>\n",
              "<style scoped>\n",
              "    .dataframe tbody tr th:only-of-type {\n",
              "        vertical-align: middle;\n",
              "    }\n",
              "\n",
              "    .dataframe tbody tr th {\n",
              "        vertical-align: top;\n",
              "    }\n",
              "\n",
              "    .dataframe thead th {\n",
              "        text-align: right;\n",
              "    }\n",
              "</style>\n",
              "<table border=\"1\" class=\"dataframe\">\n",
              "  <thead>\n",
              "    <tr style=\"text-align: right;\">\n",
              "      <th></th>\n",
              "      <th>AAPL</th>\n",
              "      <th>^GSPC</th>\n",
              "    </tr>\n",
              "  </thead>\n",
              "  <tbody>\n",
              "    <tr>\n",
              "      <th>AAPL</th>\n",
              "      <td>0.100309</td>\n",
              "      <td>0.038057</td>\n",
              "    </tr>\n",
              "    <tr>\n",
              "      <th>^GSPC</th>\n",
              "      <td>0.038057</td>\n",
              "      <td>0.039079</td>\n",
              "    </tr>\n",
              "  </tbody>\n",
              "</table>\n",
              "</div>"
            ],
            "text/plain": [
              "           AAPL     ^GSPC\n",
              "AAPL   0.100309  0.038057\n",
              "^GSPC  0.038057  0.039079"
            ]
          },
          "execution_count": 26,
          "metadata": {},
          "output_type": "execute_result"
        }
      ]
    },
    {
      "cell_type": "code",
      "metadata": {
        "id": "yESynNolm9mA",
        "outputId": "658998ef-9bbd-4062-b18b-76e597c2e797"
      },
      "source": [
        "corr_matrix = Security_returns.corr()\n",
        "corr_matrix"
      ],
      "execution_count": null,
      "outputs": [
        {
          "data": {
            "text/html": [
              "<div>\n",
              "<style scoped>\n",
              "    .dataframe tbody tr th:only-of-type {\n",
              "        vertical-align: middle;\n",
              "    }\n",
              "\n",
              "    .dataframe tbody tr th {\n",
              "        vertical-align: top;\n",
              "    }\n",
              "\n",
              "    .dataframe thead th {\n",
              "        text-align: right;\n",
              "    }\n",
              "</style>\n",
              "<table border=\"1\" class=\"dataframe\">\n",
              "  <thead>\n",
              "    <tr style=\"text-align: right;\">\n",
              "      <th></th>\n",
              "      <th>AAPL</th>\n",
              "      <th>^GSPC</th>\n",
              "    </tr>\n",
              "  </thead>\n",
              "  <tbody>\n",
              "    <tr>\n",
              "      <th>AAPL</th>\n",
              "      <td>1.000000</td>\n",
              "      <td>0.607837</td>\n",
              "    </tr>\n",
              "    <tr>\n",
              "      <th>^GSPC</th>\n",
              "      <td>0.607837</td>\n",
              "      <td>1.000000</td>\n",
              "    </tr>\n",
              "  </tbody>\n",
              "</table>\n",
              "</div>"
            ],
            "text/plain": [
              "           AAPL     ^GSPC\n",
              "AAPL   1.000000  0.607837\n",
              "^GSPC  0.607837  1.000000"
            ]
          },
          "execution_count": 27,
          "metadata": {},
          "output_type": "execute_result"
        }
      ]
    },
    {
      "cell_type": "markdown",
      "metadata": {
        "id": "Pa0h_e_Gm9mA"
      },
      "source": [
        "# Calculating Portfolio Risk"
      ]
    },
    {
      "cell_type": "code",
      "metadata": {
        "id": "qdmW1DoLm9mA"
      },
      "source": [
        "weights = np.array([0.5,0.5])"
      ],
      "execution_count": null,
      "outputs": []
    },
    {
      "cell_type": "code",
      "metadata": {
        "id": "Sw3Vz8EOm9mB",
        "outputId": "96a0aa2b-f830-4f93-98c2-dab4624a6120"
      },
      "source": [
        "portfolio_var = np.dot(weights.T, np.dot(Security_returns.cov()*252, weights))\n",
        "portfolio_var\n",
        "# .T implies transpose"
      ],
      "execution_count": null,
      "outputs": [
        {
          "data": {
            "text/plain": [
              "0.05387550224746092"
            ]
          },
          "execution_count": 29,
          "metadata": {},
          "output_type": "execute_result"
        }
      ]
    },
    {
      "cell_type": "code",
      "metadata": {
        "id": "o1SYcSbnm9mB",
        "outputId": "a46b821e-920d-4bb6-e236-cc5ed908f92b"
      },
      "source": [
        "portfolio_volatility = np.dot(weights.T, np.dot(Security_returns.cov()*252, weights)) ** 0.5\n",
        "portfolio_volatility\n",
        "# Portfolio's standard deviation"
      ],
      "execution_count": null,
      "outputs": [
        {
          "data": {
            "text/plain": [
              "0.23211096968359965"
            ]
          },
          "execution_count": 30,
          "metadata": {},
          "output_type": "execute_result"
        }
      ]
    },
    {
      "cell_type": "code",
      "metadata": {
        "id": "3mOuZFgNm9mC",
        "outputId": "cb980fb3-0d52-4fc2-e898-678d851f10d8"
      },
      "source": [
        "print (str(round(portfolio_volatility, 5 ) * 100) + '%') "
      ],
      "execution_count": null,
      "outputs": [
        {
          "name": "stdout",
          "output_type": "stream",
          "text": [
            "23.211000000000002%\n"
          ]
        }
      ]
    },
    {
      "cell_type": "markdown",
      "metadata": {
        "id": "4bVU_qEcm9mC"
      },
      "source": [
        "# Diversifiable Risk"
      ]
    },
    {
      "cell_type": "code",
      "metadata": {
        "id": "WPvGwwZ5m9mD"
      },
      "source": [
        "weights = np.array([0.5, 0.5])"
      ],
      "execution_count": null,
      "outputs": []
    },
    {
      "cell_type": "code",
      "metadata": {
        "id": "pZ5tK-X6m9mD",
        "outputId": "d89fddc7-3107-44aa-d42e-7d4057c5e583"
      },
      "source": [
        "AAPL_var_annual = Security_returns['AAPL'].var() * 252\n",
        "AAPL_var_annual"
      ],
      "execution_count": null,
      "outputs": [
        {
          "data": {
            "text/plain": [
              "0.10030944647528517"
            ]
          },
          "execution_count": 43,
          "metadata": {},
          "output_type": "execute_result"
        }
      ]
    },
    {
      "cell_type": "code",
      "metadata": {
        "id": "JThEkr5Rm9mD",
        "outputId": "e406075d-ad81-4b4c-f49a-f1f00991fda5"
      },
      "source": [
        "sp500_var_annual = Security_returns['^GSPC'].var() * 252\n",
        "sp500_var_annual"
      ],
      "execution_count": null,
      "outputs": [
        {
          "data": {
            "text/plain": [
              "0.03907918388539682"
            ]
          },
          "execution_count": 44,
          "metadata": {},
          "output_type": "execute_result"
        }
      ]
    },
    {
      "cell_type": "code",
      "metadata": {
        "id": "WBxfbZHjm9mE",
        "outputId": "712a298d-f4bc-428e-d92f-0c54c6f3dcda"
      },
      "source": [
        "diversifiable_risk = portfolio_var - (weights[0] ** 2 * AAPL_var_annual) - (weights[1] ** 2 * sp500_var_annual)\n",
        "diversifiable_risk"
      ],
      "execution_count": null,
      "outputs": [
        {
          "data": {
            "text/plain": [
              "0.01902834465729042"
            ]
          },
          "execution_count": 45,
          "metadata": {},
          "output_type": "execute_result"
        }
      ]
    },
    {
      "cell_type": "code",
      "metadata": {
        "id": "x-RG_FEMm9mF",
        "outputId": "996999c2-d687-4105-f011-82349e1acc1c"
      },
      "source": [
        "print (str(round(diversifiable_risk*100, 3))+ '%')"
      ],
      "execution_count": null,
      "outputs": [
        {
          "name": "stdout",
          "output_type": "stream",
          "text": [
            "1.903%\n"
          ]
        }
      ]
    },
    {
      "cell_type": "markdown",
      "metadata": {
        "id": "sVFJ6OZ0m9mF"
      },
      "source": [
        "# Non-Diversifiable Risk"
      ]
    },
    {
      "cell_type": "code",
      "metadata": {
        "id": "3QQ1GbvSm9mG",
        "outputId": "bc5aa89d-c9a5-41f0-e1d0-5d37aea41c4b"
      },
      "source": [
        "NDR = portfolio_var - diversifiable_risk\n",
        "NDR"
      ],
      "execution_count": null,
      "outputs": [
        {
          "data": {
            "text/plain": [
              "0.0348471575901705"
            ]
          },
          "execution_count": 48,
          "metadata": {},
          "output_type": "execute_result"
        }
      ]
    }
  ]
}