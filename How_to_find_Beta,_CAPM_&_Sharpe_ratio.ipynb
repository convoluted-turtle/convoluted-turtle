{
  "nbformat": 4,
  "nbformat_minor": 0,
  "metadata": {
    "kernelspec": {
      "display_name": "Python 3",
      "language": "python",
      "name": "python3"
    },
    "language_info": {
      "codemirror_mode": {
        "name": "ipython",
        "version": 3
      },
      "file_extension": ".py",
      "mimetype": "text/x-python",
      "name": "python",
      "nbconvert_exporter": "python",
      "pygments_lexer": "ipython3",
      "version": "3.6.5"
    },
    "colab": {
      "name": "How to find Beta, CAPM & Sharpe ratio.ipynb",
      "provenance": []
    }
  },
  "cells": [
    {
      "cell_type": "markdown",
      "metadata": {
        "id": "NzP7PPi7m-6h"
      },
      "source": [
        "# Beta, CAPM & Sharpe Ratio"
      ]
    },
    {
      "cell_type": "code",
      "metadata": {
        "id": "boFPVhaxm-6t"
      },
      "source": [
        "import numpy as np\n",
        "import pandas as pd\n",
        "from pandas_datareader import data as wb"
      ],
      "execution_count": null,
      "outputs": []
    },
    {
      "cell_type": "code",
      "metadata": {
        "id": "Z4jxhcLYm-6u"
      },
      "source": [
        "tickers = ['MSFT', '^GSPC']\n",
        "data = pd.DataFrame()\n",
        "for t in tickers: \n",
        "    data[t] = wb.DataReader(t, data_source = 'yahoo', start = '2013-1-1', end = '2017-12-31')['Adj Close']"
      ],
      "execution_count": null,
      "outputs": []
    },
    {
      "cell_type": "code",
      "metadata": {
        "id": "zy_ZYAT8m-6v",
        "outputId": "eb214822-88de-493c-b591-ab7dffe7d097"
      },
      "source": [
        "sec_returns = np.log (data / data.shift(1))\n",
        "sec_returns.head()"
      ],
      "execution_count": null,
      "outputs": [
        {
          "data": {
            "text/html": [
              "<div>\n",
              "<style scoped>\n",
              "    .dataframe tbody tr th:only-of-type {\n",
              "        vertical-align: middle;\n",
              "    }\n",
              "\n",
              "    .dataframe tbody tr th {\n",
              "        vertical-align: top;\n",
              "    }\n",
              "\n",
              "    .dataframe thead th {\n",
              "        text-align: right;\n",
              "    }\n",
              "</style>\n",
              "<table border=\"1\" class=\"dataframe\">\n",
              "  <thead>\n",
              "    <tr style=\"text-align: right;\">\n",
              "      <th></th>\n",
              "      <th>MSFT</th>\n",
              "      <th>^GSPC</th>\n",
              "    </tr>\n",
              "    <tr>\n",
              "      <th>Date</th>\n",
              "      <th></th>\n",
              "      <th></th>\n",
              "    </tr>\n",
              "  </thead>\n",
              "  <tbody>\n",
              "    <tr>\n",
              "      <th>2013-01-02</th>\n",
              "      <td>NaN</td>\n",
              "      <td>NaN</td>\n",
              "    </tr>\n",
              "    <tr>\n",
              "      <th>2013-01-03</th>\n",
              "      <td>-0.013487</td>\n",
              "      <td>-0.002088</td>\n",
              "    </tr>\n",
              "    <tr>\n",
              "      <th>2013-01-04</th>\n",
              "      <td>-0.018893</td>\n",
              "      <td>0.004853</td>\n",
              "    </tr>\n",
              "    <tr>\n",
              "      <th>2013-01-07</th>\n",
              "      <td>-0.001871</td>\n",
              "      <td>-0.003128</td>\n",
              "    </tr>\n",
              "    <tr>\n",
              "      <th>2013-01-08</th>\n",
              "      <td>-0.005259</td>\n",
              "      <td>-0.003248</td>\n",
              "    </tr>\n",
              "  </tbody>\n",
              "</table>\n",
              "</div>"
            ],
            "text/plain": [
              "                MSFT     ^GSPC\n",
              "Date                          \n",
              "2013-01-02       NaN       NaN\n",
              "2013-01-03 -0.013487 -0.002088\n",
              "2013-01-04 -0.018893  0.004853\n",
              "2013-01-07 -0.001871 -0.003128\n",
              "2013-01-08 -0.005259 -0.003248"
            ]
          },
          "execution_count": 3,
          "metadata": {},
          "output_type": "execute_result"
        }
      ]
    },
    {
      "cell_type": "code",
      "metadata": {
        "id": "CqshRpOkm-6x",
        "outputId": "cf57448d-c562-40fc-c5ce-1163271e8063"
      },
      "source": [
        "cov = sec_returns.cov() * 252\n",
        "cov"
      ],
      "execution_count": null,
      "outputs": [
        {
          "data": {
            "text/html": [
              "<div>\n",
              "<style scoped>\n",
              "    .dataframe tbody tr th:only-of-type {\n",
              "        vertical-align: middle;\n",
              "    }\n",
              "\n",
              "    .dataframe tbody tr th {\n",
              "        vertical-align: top;\n",
              "    }\n",
              "\n",
              "    .dataframe thead th {\n",
              "        text-align: right;\n",
              "    }\n",
              "</style>\n",
              "<table border=\"1\" class=\"dataframe\">\n",
              "  <thead>\n",
              "    <tr style=\"text-align: right;\">\n",
              "      <th></th>\n",
              "      <th>MSFT</th>\n",
              "      <th>^GSPC</th>\n",
              "    </tr>\n",
              "  </thead>\n",
              "  <tbody>\n",
              "    <tr>\n",
              "      <th>MSFT</th>\n",
              "      <td>0.049946</td>\n",
              "      <td>0.015878</td>\n",
              "    </tr>\n",
              "    <tr>\n",
              "      <th>^GSPC</th>\n",
              "      <td>0.015878</td>\n",
              "      <td>0.014070</td>\n",
              "    </tr>\n",
              "  </tbody>\n",
              "</table>\n",
              "</div>"
            ],
            "text/plain": [
              "           MSFT     ^GSPC\n",
              "MSFT   0.049946  0.015878\n",
              "^GSPC  0.015878  0.014070"
            ]
          },
          "execution_count": 4,
          "metadata": {},
          "output_type": "execute_result"
        }
      ]
    },
    {
      "cell_type": "code",
      "metadata": {
        "id": "4AV8jDarm-6y",
        "outputId": "2ded6d8d-98a4-4490-c4ff-4774e56c5d07"
      },
      "source": [
        "cov_with_market = cov.iloc[0,1]\n",
        "cov_with_market\n",
        "# Simply calling out the intersection of PG and ^GSPC in first row and 2nd coloumn. We will get numerator of Beta formula."
      ],
      "execution_count": null,
      "outputs": [
        {
          "data": {
            "text/plain": [
              "0.01587776725954732"
            ]
          },
          "execution_count": 5,
          "metadata": {},
          "output_type": "execute_result"
        }
      ]
    },
    {
      "cell_type": "code",
      "metadata": {
        "id": "N5RORz06m-6z",
        "outputId": "b726ce7e-4716-46f1-f393-d9da8b76915f"
      },
      "source": [
        "market_var = sec_returns['^GSPC'].var() * 252\n",
        "market_var"
      ],
      "execution_count": null,
      "outputs": [
        {
          "data": {
            "text/plain": [
              "0.014070383063135558"
            ]
          },
          "execution_count": 6,
          "metadata": {},
          "output_type": "execute_result"
        }
      ]
    },
    {
      "cell_type": "markdown",
      "metadata": {
        "id": "GTBhO2fGm-60"
      },
      "source": [
        "** Beta: **\n",
        "### $$ \n",
        "\\beta_{pg} = \\frac{\\sigma_{pg,m}}{\\sigma_{m}^2}\n",
        "$$"
      ]
    },
    {
      "cell_type": "code",
      "metadata": {
        "id": "FmvGgvt2m-65",
        "outputId": "8e33e602-1c84-47ff-c92b-91f85b7103b1"
      },
      "source": [
        "MSFT_beta = cov_with_market / market_var\n",
        "MSFT_beta"
      ],
      "execution_count": null,
      "outputs": [
        {
          "data": {
            "text/plain": [
              "1.1284530910282828"
            ]
          },
          "execution_count": 7,
          "metadata": {},
          "output_type": "execute_result"
        }
      ]
    },
    {
      "cell_type": "markdown",
      "metadata": {
        "id": "Ig_2xmygm-67"
      },
      "source": [
        "**Calculate the expected return of P&G (CAPM):**\n",
        "### $$\n",
        "\\overline{r_{pg}} = r_f + \\beta_{pg}(\\overline{r_{m}} - r_f) \n",
        "$$"
      ]
    },
    {
      "cell_type": "code",
      "metadata": {
        "id": "Ee8YzK2Pm-68",
        "outputId": "f97c002d-7718-4785-f8f2-54ba4d12a224"
      },
      "source": [
        "MSFT_ER = 0.025 + MSFT_beta * 0.05\n",
        "MSFT_ER"
      ],
      "execution_count": null,
      "outputs": [
        {
          "data": {
            "text/plain": [
              "0.08142265455141415"
            ]
          },
          "execution_count": 8,
          "metadata": {},
          "output_type": "execute_result"
        }
      ]
    },
    {
      "cell_type": "markdown",
      "metadata": {
        "id": "R0CGO0RQm-69"
      },
      "source": [
        "**Sharpe ratio:**\n",
        "### $$\n",
        "Sharpe = \\frac{\\overline{r_{pg}} - r_f}{\\sigma_{pg}}\n",
        "$$"
      ]
    },
    {
      "cell_type": "code",
      "metadata": {
        "id": "njV_DxUPm-69",
        "outputId": "993d60dd-5771-43eb-a869-534182ee7795"
      },
      "source": [
        "sharpe_ratio = (MSFT_ER - 0.025) / (sec_returns['MSFT'].std() * 252)\n",
        "sharpe_ratio"
      ],
      "execution_count": null,
      "outputs": [
        {
          "data": {
            "text/plain": [
              "0.015903818010108504"
            ]
          },
          "execution_count": 9,
          "metadata": {},
          "output_type": "execute_result"
        }
      ]
    },
    {
      "cell_type": "code",
      "metadata": {
        "id": "-9yzqHFzm-6-"
      },
      "source": [
        ""
      ],
      "execution_count": null,
      "outputs": []
    }
  ]
}