{
  "nbformat": 4,
  "nbformat_minor": 0,
  "metadata": {
    "kernelspec": {
      "display_name": "Python 3",
      "language": "python",
      "name": "python3"
    },
    "language_info": {
      "codemirror_mode": {
        "name": "ipython",
        "version": 3
      },
      "file_extension": ".py",
      "mimetype": "text/x-python",
      "name": "python",
      "nbconvert_exporter": "python",
      "pygments_lexer": "ipython3",
      "version": "3.6.5"
    },
    "colab": {
      "name": "5 Securities Efficient Frontier.ipynb",
      "provenance": []
    }
  },
  "cells": [
    {
      "cell_type": "code",
      "metadata": {
        "id": "vWJrcY8km_Zf"
      },
      "source": [
        "import numpy as np\n",
        "import pandas as pd\n",
        "from pandas_datareader import data as wb\n",
        "import matplotlib.pyplot as plt\n",
        "%matplotlib inline"
      ],
      "execution_count": null,
      "outputs": []
    },
    {
      "cell_type": "code",
      "metadata": {
        "id": "Xlb71MyJm_Zp"
      },
      "source": [
        "assets = ['PG', 'WMT', '^GSPC', 'XOM', 'NKE']\n",
        "pf_data = pd.DataFrame()\n",
        "\n",
        "for a in assets:\n",
        "    pf_data[a] = wb.DataReader(a, data_source = 'yahoo', start = '2009-1-1')['Adj Close']\n",
        "# pf = Portfolio"
      ],
      "execution_count": null,
      "outputs": []
    },
    {
      "cell_type": "code",
      "metadata": {
        "id": "xyXavwqzm_Zs",
        "outputId": "8d9f49eb-d7d8-402f-b450-28a5eca8ebba"
      },
      "source": [
        "pf_data.head()\n",
        "# First 5 Adjusted Closes of assets"
      ],
      "execution_count": null,
      "outputs": [
        {
          "data": {
            "text/html": [
              "<div>\n",
              "<style scoped>\n",
              "    .dataframe tbody tr th:only-of-type {\n",
              "        vertical-align: middle;\n",
              "    }\n",
              "\n",
              "    .dataframe tbody tr th {\n",
              "        vertical-align: top;\n",
              "    }\n",
              "\n",
              "    .dataframe thead th {\n",
              "        text-align: right;\n",
              "    }\n",
              "</style>\n",
              "<table border=\"1\" class=\"dataframe\">\n",
              "  <thead>\n",
              "    <tr style=\"text-align: right;\">\n",
              "      <th></th>\n",
              "      <th>PG</th>\n",
              "      <th>WMT</th>\n",
              "      <th>^GSPC</th>\n",
              "      <th>XOM</th>\n",
              "      <th>NKE</th>\n",
              "    </tr>\n",
              "    <tr>\n",
              "      <th>Date</th>\n",
              "      <th></th>\n",
              "      <th></th>\n",
              "      <th></th>\n",
              "      <th></th>\n",
              "      <th></th>\n",
              "    </tr>\n",
              "  </thead>\n",
              "  <tbody>\n",
              "    <tr>\n",
              "      <th>2009-01-02</th>\n",
              "      <td>45.686195</td>\n",
              "      <td>44.551342</td>\n",
              "      <td>931.799988</td>\n",
              "      <td>60.521351</td>\n",
              "      <td>9.137513</td>\n",
              "    </tr>\n",
              "    <tr>\n",
              "      <th>2009-01-05</th>\n",
              "      <td>45.358814</td>\n",
              "      <td>44.037106</td>\n",
              "      <td>927.450012</td>\n",
              "      <td>60.513935</td>\n",
              "      <td>9.202950</td>\n",
              "    </tr>\n",
              "    <tr>\n",
              "      <th>2009-01-06</th>\n",
              "      <td>45.227879</td>\n",
              "      <td>43.647526</td>\n",
              "      <td>934.700012</td>\n",
              "      <td>59.527992</td>\n",
              "      <td>9.016963</td>\n",
              "    </tr>\n",
              "    <tr>\n",
              "      <th>2009-01-07</th>\n",
              "      <td>44.434921</td>\n",
              "      <td>43.273548</td>\n",
              "      <td>906.650024</td>\n",
              "      <td>58.008308</td>\n",
              "      <td>8.689764</td>\n",
              "    </tr>\n",
              "    <tr>\n",
              "      <th>2009-01-08</th>\n",
              "      <td>43.947495</td>\n",
              "      <td>40.032310</td>\n",
              "      <td>909.729980</td>\n",
              "      <td>58.630978</td>\n",
              "      <td>8.849917</td>\n",
              "    </tr>\n",
              "  </tbody>\n",
              "</table>\n",
              "</div>"
            ],
            "text/plain": [
              "                   PG        WMT       ^GSPC        XOM       NKE\n",
              "Date                                                             \n",
              "2009-01-02  45.686195  44.551342  931.799988  60.521351  9.137513\n",
              "2009-01-05  45.358814  44.037106  927.450012  60.513935  9.202950\n",
              "2009-01-06  45.227879  43.647526  934.700012  59.527992  9.016963\n",
              "2009-01-07  44.434921  43.273548  906.650024  58.008308  8.689764\n",
              "2009-01-08  43.947495  40.032310  909.729980  58.630978  8.849917"
            ]
          },
          "execution_count": 3,
          "metadata": {},
          "output_type": "execute_result"
        }
      ]
    },
    {
      "cell_type": "code",
      "metadata": {
        "id": "uBj_JBZBm_Zu",
        "outputId": "dc622789-1a41-47f1-baaf-fe0f98244b17"
      },
      "source": [
        "pf_data.tail()\n",
        "# Last 5 Adjusted closes of assets"
      ],
      "execution_count": null,
      "outputs": [
        {
          "data": {
            "text/html": [
              "<div>\n",
              "<style scoped>\n",
              "    .dataframe tbody tr th:only-of-type {\n",
              "        vertical-align: middle;\n",
              "    }\n",
              "\n",
              "    .dataframe tbody tr th {\n",
              "        vertical-align: top;\n",
              "    }\n",
              "\n",
              "    .dataframe thead th {\n",
              "        text-align: right;\n",
              "    }\n",
              "</style>\n",
              "<table border=\"1\" class=\"dataframe\">\n",
              "  <thead>\n",
              "    <tr style=\"text-align: right;\">\n",
              "      <th></th>\n",
              "      <th>PG</th>\n",
              "      <th>WMT</th>\n",
              "      <th>^GSPC</th>\n",
              "      <th>XOM</th>\n",
              "      <th>NKE</th>\n",
              "    </tr>\n",
              "    <tr>\n",
              "      <th>Date</th>\n",
              "      <th></th>\n",
              "      <th></th>\n",
              "      <th></th>\n",
              "      <th></th>\n",
              "      <th></th>\n",
              "    </tr>\n",
              "  </thead>\n",
              "  <tbody>\n",
              "    <tr>\n",
              "      <th>2018-11-29</th>\n",
              "      <td>92.820000</td>\n",
              "      <td>96.761971</td>\n",
              "      <td>2737.800049</td>\n",
              "      <td>79.059998</td>\n",
              "      <td>74.119995</td>\n",
              "    </tr>\n",
              "    <tr>\n",
              "      <th>2018-11-30</th>\n",
              "      <td>94.510002</td>\n",
              "      <td>97.120010</td>\n",
              "      <td>2760.169922</td>\n",
              "      <td>79.500000</td>\n",
              "      <td>75.120003</td>\n",
              "    </tr>\n",
              "    <tr>\n",
              "      <th>2018-12-03</th>\n",
              "      <td>93.320000</td>\n",
              "      <td>98.214043</td>\n",
              "      <td>2790.370117</td>\n",
              "      <td>81.220001</td>\n",
              "      <td>77.940002</td>\n",
              "    </tr>\n",
              "    <tr>\n",
              "      <th>2018-12-04</th>\n",
              "      <td>93.309998</td>\n",
              "      <td>95.289993</td>\n",
              "      <td>2700.060059</td>\n",
              "      <td>79.430000</td>\n",
              "      <td>75.790001</td>\n",
              "    </tr>\n",
              "    <tr>\n",
              "      <th>2018-12-06</th>\n",
              "      <td>93.550003</td>\n",
              "      <td>94.769997</td>\n",
              "      <td>2695.949951</td>\n",
              "      <td>78.389999</td>\n",
              "      <td>75.540001</td>\n",
              "    </tr>\n",
              "  </tbody>\n",
              "</table>\n",
              "</div>"
            ],
            "text/plain": [
              "                   PG        WMT        ^GSPC        XOM        NKE\n",
              "Date                                                               \n",
              "2018-11-29  92.820000  96.761971  2737.800049  79.059998  74.119995\n",
              "2018-11-30  94.510002  97.120010  2760.169922  79.500000  75.120003\n",
              "2018-12-03  93.320000  98.214043  2790.370117  81.220001  77.940002\n",
              "2018-12-04  93.309998  95.289993  2700.060059  79.430000  75.790001\n",
              "2018-12-06  93.550003  94.769997  2695.949951  78.389999  75.540001"
            ]
          },
          "execution_count": 4,
          "metadata": {},
          "output_type": "execute_result"
        }
      ]
    },
    {
      "cell_type": "code",
      "metadata": {
        "id": "GsWd1xp3m_Zv",
        "outputId": "fa373600-a654-4bb5-a344-1c849b79f9fa"
      },
      "source": [
        "(pf_data / pf_data.iloc[0] * 100).plot(figsize = (10,6))\n",
        "# .iloc is an integer function which returns only integers from DataFrame. In our case, it will return the 1st row(divides all observations with 1st row observations) multiplied by 100. "
      ],
      "execution_count": null,
      "outputs": [
        {
          "data": {
            "text/plain": [
              "<matplotlib.axes._subplots.AxesSubplot at 0x1b5a55a23c8>"
            ]
          },
          "execution_count": 5,
          "metadata": {},
          "output_type": "execute_result"
        },
        {
          "data": {
            "image/png": "[encoded data removed]",
            "text/plain": [
              "<Figure size 720x432 with 1 Axes>"
            ]
          },
          "metadata": {},
          "output_type": "display_data"
        }
      ]
    },
    {
      "cell_type": "code",
      "metadata": {
        "id": "6BZfXZQDm_Zx"
      },
      "source": [
        "log_returns = np.log(pf_data / pf_data.shift(1))\n",
        "# Taking out logarithm of daily returns for each security"
      ],
      "execution_count": null,
      "outputs": []
    },
    {
      "cell_type": "code",
      "metadata": {
        "id": "27dIeJBCm_Zx",
        "outputId": "176c460f-c9f6-409c-eea9-fb1360ba11b0"
      },
      "source": [
        "log_returns.mean() * 250\n",
        "# Annualized Returns"
      ],
      "execution_count": null,
      "outputs": [
        {
          "data": {
            "text/plain": [
              "PG       0.071699\n",
              "WMT      0.075511\n",
              "^GSPC    0.106281\n",
              "XOM      0.025880\n",
              "NKE      0.211312\n",
              "dtype: float64"
            ]
          },
          "execution_count": 7,
          "metadata": {},
          "output_type": "execute_result"
        }
      ]
    },
    {
      "cell_type": "code",
      "metadata": {
        "id": "6-WZX9bpm_Zz",
        "outputId": "9048aa1b-6aa1-4e1f-90e6-9220e95dbf5d"
      },
      "source": [
        "log_returns.cov() * 250\n",
        "# Variance-Covariance Matrix"
      ],
      "execution_count": null,
      "outputs": [
        {
          "data": {
            "text/html": [
              "<div>\n",
              "<style scoped>\n",
              "    .dataframe tbody tr th:only-of-type {\n",
              "        vertical-align: middle;\n",
              "    }\n",
              "\n",
              "    .dataframe tbody tr th {\n",
              "        vertical-align: top;\n",
              "    }\n",
              "\n",
              "    .dataframe thead th {\n",
              "        text-align: right;\n",
              "    }\n",
              "</style>\n",
              "<table border=\"1\" class=\"dataframe\">\n",
              "  <thead>\n",
              "    <tr style=\"text-align: right;\">\n",
              "      <th></th>\n",
              "      <th>PG</th>\n",
              "      <th>WMT</th>\n",
              "      <th>^GSPC</th>\n",
              "      <th>XOM</th>\n",
              "      <th>NKE</th>\n",
              "    </tr>\n",
              "  </thead>\n",
              "  <tbody>\n",
              "    <tr>\n",
              "      <th>PG</th>\n",
              "      <td>0.024461</td>\n",
              "      <td>0.010926</td>\n",
              "      <td>0.014418</td>\n",
              "      <td>0.013846</td>\n",
              "      <td>0.012969</td>\n",
              "    </tr>\n",
              "    <tr>\n",
              "      <th>WMT</th>\n",
              "      <td>0.010926</td>\n",
              "      <td>0.032059</td>\n",
              "      <td>0.012429</td>\n",
              "      <td>0.010559</td>\n",
              "      <td>0.012994</td>\n",
              "    </tr>\n",
              "    <tr>\n",
              "      <th>^GSPC</th>\n",
              "      <td>0.014418</td>\n",
              "      <td>0.012429</td>\n",
              "      <td>0.027060</td>\n",
              "      <td>0.023404</td>\n",
              "      <td>0.024909</td>\n",
              "    </tr>\n",
              "    <tr>\n",
              "      <th>XOM</th>\n",
              "      <td>0.013846</td>\n",
              "      <td>0.010559</td>\n",
              "      <td>0.023404</td>\n",
              "      <td>0.037009</td>\n",
              "      <td>0.018602</td>\n",
              "    </tr>\n",
              "    <tr>\n",
              "      <th>NKE</th>\n",
              "      <td>0.012969</td>\n",
              "      <td>0.012994</td>\n",
              "      <td>0.024909</td>\n",
              "      <td>0.018602</td>\n",
              "      <td>0.062265</td>\n",
              "    </tr>\n",
              "  </tbody>\n",
              "</table>\n",
              "</div>"
            ],
            "text/plain": [
              "             PG       WMT     ^GSPC       XOM       NKE\n",
              "PG     0.024461  0.010926  0.014418  0.013846  0.012969\n",
              "WMT    0.010926  0.032059  0.012429  0.010559  0.012994\n",
              "^GSPC  0.014418  0.012429  0.027060  0.023404  0.024909\n",
              "XOM    0.013846  0.010559  0.023404  0.037009  0.018602\n",
              "NKE    0.012969  0.012994  0.024909  0.018602  0.062265"
            ]
          },
          "execution_count": 8,
          "metadata": {},
          "output_type": "execute_result"
        }
      ]
    },
    {
      "cell_type": "code",
      "metadata": {
        "id": "7rq_x_d8m_Z1",
        "outputId": "37b33a7f-200b-4ab0-fb56-fb398faba527"
      },
      "source": [
        "log_returns.corr()\n",
        "# Correlation of individual securities"
      ],
      "execution_count": null,
      "outputs": [
        {
          "data": {
            "text/html": [
              "<div>\n",
              "<style scoped>\n",
              "    .dataframe tbody tr th:only-of-type {\n",
              "        vertical-align: middle;\n",
              "    }\n",
              "\n",
              "    .dataframe tbody tr th {\n",
              "        vertical-align: top;\n",
              "    }\n",
              "\n",
              "    .dataframe thead th {\n",
              "        text-align: right;\n",
              "    }\n",
              "</style>\n",
              "<table border=\"1\" class=\"dataframe\">\n",
              "  <thead>\n",
              "    <tr style=\"text-align: right;\">\n",
              "      <th></th>\n",
              "      <th>PG</th>\n",
              "      <th>WMT</th>\n",
              "      <th>^GSPC</th>\n",
              "      <th>XOM</th>\n",
              "      <th>NKE</th>\n",
              "    </tr>\n",
              "  </thead>\n",
              "  <tbody>\n",
              "    <tr>\n",
              "      <th>PG</th>\n",
              "      <td>1.000000</td>\n",
              "      <td>0.390149</td>\n",
              "      <td>0.560410</td>\n",
              "      <td>0.460197</td>\n",
              "      <td>0.332303</td>\n",
              "    </tr>\n",
              "    <tr>\n",
              "      <th>WMT</th>\n",
              "      <td>0.390149</td>\n",
              "      <td>1.000000</td>\n",
              "      <td>0.422002</td>\n",
              "      <td>0.306558</td>\n",
              "      <td>0.290836</td>\n",
              "    </tr>\n",
              "    <tr>\n",
              "      <th>^GSPC</th>\n",
              "      <td>0.560410</td>\n",
              "      <td>0.422002</td>\n",
              "      <td>1.000000</td>\n",
              "      <td>0.739565</td>\n",
              "      <td>0.606840</td>\n",
              "    </tr>\n",
              "    <tr>\n",
              "      <th>XOM</th>\n",
              "      <td>0.460197</td>\n",
              "      <td>0.306558</td>\n",
              "      <td>0.739565</td>\n",
              "      <td>1.000000</td>\n",
              "      <td>0.387507</td>\n",
              "    </tr>\n",
              "    <tr>\n",
              "      <th>NKE</th>\n",
              "      <td>0.332303</td>\n",
              "      <td>0.290836</td>\n",
              "      <td>0.606840</td>\n",
              "      <td>0.387507</td>\n",
              "      <td>1.000000</td>\n",
              "    </tr>\n",
              "  </tbody>\n",
              "</table>\n",
              "</div>"
            ],
            "text/plain": [
              "             PG       WMT     ^GSPC       XOM       NKE\n",
              "PG     1.000000  0.390149  0.560410  0.460197  0.332303\n",
              "WMT    0.390149  1.000000  0.422002  0.306558  0.290836\n",
              "^GSPC  0.560410  0.422002  1.000000  0.739565  0.606840\n",
              "XOM    0.460197  0.306558  0.739565  1.000000  0.387507\n",
              "NKE    0.332303  0.290836  0.606840  0.387507  1.000000"
            ]
          },
          "execution_count": 9,
          "metadata": {},
          "output_type": "execute_result"
        }
      ]
    },
    {
      "cell_type": "code",
      "metadata": {
        "id": "wNGZ7-bEm_Z9",
        "outputId": "20561889-cfe9-4252-d377-570b28e23c4b"
      },
      "source": [
        "number_of_assets = len(assets)\n",
        "number_of_assets"
      ],
      "execution_count": null,
      "outputs": [
        {
          "data": {
            "text/plain": [
              "5"
            ]
          },
          "execution_count": 10,
          "metadata": {},
          "output_type": "execute_result"
        }
      ]
    },
    {
      "cell_type": "code",
      "metadata": {
        "id": "oeXTm00km_Z-",
        "outputId": "0d183932-b8f1-49da-d145-e6299960b86d"
      },
      "source": [
        "np.random.seed(40)\n",
        "weights = np.random.random(number_of_assets) \n",
        "# Assigns a random number between 0-1 to each emenemt in number_of_assets\n",
        "weights /= np.sum(weights)\n",
        "weights"
      ],
      "execution_count": null,
      "outputs": [
        {
          "data": {
            "text/plain": [
              "array([0.20494574, 0.02783271, 0.39639933, 0.14442935, 0.22639287])"
            ]
          },
          "execution_count": 11,
          "metadata": {},
          "output_type": "execute_result"
        }
      ]
    },
    {
      "cell_type": "code",
      "metadata": {
        "id": "n8Yb1scAm_Z_",
        "outputId": "a3362e78-b706-41fc-cff1-43a664ff3eb6"
      },
      "source": [
        "sum(weights)\n",
        "# sum of weights = 1 for the portfolio"
      ],
      "execution_count": null,
      "outputs": [
        {
          "data": {
            "text/plain": [
              "1.0"
            ]
          },
          "execution_count": 12,
          "metadata": {},
          "output_type": "execute_result"
        }
      ]
    },
    {
      "cell_type": "markdown",
      "metadata": {
        "id": "DP3Svx7zm_aA"
      },
      "source": [
        "# Expected Portfolio Return"
      ]
    },
    {
      "cell_type": "code",
      "metadata": {
        "id": "s4rxrH7Fm_aE",
        "outputId": "37db6aed-02df-4569-c01d-a52981bf218e"
      },
      "source": [
        "# Expected return on portfolio\n",
        "np.sum(weights * log_returns.mean()) * 250\n",
        "# The sum .sum function of numpy allows us to sum multidimentionally."
      ],
      "execution_count": null,
      "outputs": [
        {
          "data": {
            "text/plain": [
              "0.11050324857254923"
            ]
          },
          "execution_count": 13,
          "metadata": {},
          "output_type": "execute_result"
        }
      ]
    },
    {
      "cell_type": "code",
      "metadata": {
        "id": "wyVcWu4Jm_aI",
        "outputId": "df7275f5-5455-4adf-d4d8-58d9da0c1bc0"
      },
      "source": [
        "# Expected portfolio variance\n",
        "np.dot(weights.T, np.dot(log_returns.cov() * 250, weights))\n",
        "# Similar to Transpose and matrix multiplication in excel"
      ],
      "execution_count": null,
      "outputs": [
        {
          "data": {
            "text/plain": [
              "0.02264797023489791"
            ]
          },
          "execution_count": 14,
          "metadata": {},
          "output_type": "execute_result"
        }
      ]
    },
    {
      "cell_type": "code",
      "metadata": {
        "id": "7XvsFm-Gm_aJ",
        "outputId": "2c8b4b7e-416b-4b7b-c4b6-3ada99b90624"
      },
      "source": [
        "# Expected portfolio Volatility\n",
        "np.sqrt(np.dot(weights.T, np.dot(log_returns.cov() * 250, weights)))"
      ],
      "execution_count": null,
      "outputs": [
        {
          "data": {
            "text/plain": [
              "0.15049242583897007"
            ]
          },
          "execution_count": 15,
          "metadata": {},
          "output_type": "execute_result"
        }
      ]
    },
    {
      "cell_type": "code",
      "metadata": {
        "id": "h9ind7W-m_aK",
        "outputId": "43e36d1e-08d0-4ad5-f2ec-4b87431568c8"
      },
      "source": [
        "# The secret Ingredient\n",
        "pfolio_returns = []\n",
        "pfolio_volatilities = []\n",
        "\n",
        "for x in range(10000):\n",
        "    weights = np.random.random(number_of_assets)\n",
        "    weights /= np.sum(weights)\n",
        "    pfolio_returns.append(np.sum(weights * log_returns.mean()) * 250)\n",
        "    pfolio_volatilities.append(np.sqrt(np.dot(weights.T, np.dot(log_returns.cov() * 250, weights))))\n",
        "\n",
        "pfolio_returns = np.array(pfolio_returns)\n",
        "pfolio_volatilities = np.array(pfolio_volatilities)\n",
        "\n",
        "pfolio_returns, pfolio_volatilities\n",
        "# Displaying 1000 returns and corresponding volatilities in 2 arrays with different weights combination."
      ],
      "execution_count": null,
      "outputs": [
        {
          "data": {
            "text/plain": [
              "(array([0.10042471, 0.07227823, 0.07002282, ..., 0.08391569, 0.13790239,\n",
              "        0.10922528]),\n",
              " array([0.14714955, 0.13468973, 0.13604233, ..., 0.13468846, 0.17793432,\n",
              "        0.14684693]))"
            ]
          },
          "execution_count": 16,
          "metadata": {},
          "output_type": "execute_result"
        }
      ]
    },
    {
      "cell_type": "code",
      "metadata": {
        "id": "mrgd2yk1m_aL",
        "outputId": "cd9238f0-99a3-49ed-cf9e-a3f6885e508a"
      },
      "source": [
        "# Greek word Portfolia\n",
        "portfolia = pd.DataFrame({'Return': pfolio_returns, 'Volatility': pfolio_volatilities})\n",
        "portfolia\n",
        "# Dictionary with 2 key value pairs"
      ],
      "execution_count": null,
      "outputs": [
        {
          "data": {
            "text/html": [
              "<div>\n",
              "<style scoped>\n",
              "    .dataframe tbody tr th:only-of-type {\n",
              "        vertical-align: middle;\n",
              "    }\n",
              "\n",
              "    .dataframe tbody tr th {\n",
              "        vertical-align: top;\n",
              "    }\n",
              "\n",
              "    .dataframe thead th {\n",
              "        text-align: right;\n",
              "    }\n",
              "</style>\n",
              "<table border=\"1\" class=\"dataframe\">\n",
              "  <thead>\n",
              "    <tr style=\"text-align: right;\">\n",
              "      <th></th>\n",
              "      <th>Return</th>\n",
              "      <th>Volatility</th>\n",
              "    </tr>\n",
              "  </thead>\n",
              "  <tbody>\n",
              "    <tr>\n",
              "      <th>0</th>\n",
              "      <td>0.100425</td>\n",
              "      <td>0.147150</td>\n",
              "    </tr>\n",
              "    <tr>\n",
              "      <th>1</th>\n",
              "      <td>0.072278</td>\n",
              "      <td>0.134690</td>\n",
              "    </tr>\n",
              "    <tr>\n",
              "      <th>2</th>\n",
              "      <td>0.070023</td>\n",
              "      <td>0.136042</td>\n",
              "    </tr>\n",
              "    <tr>\n",
              "      <th>3</th>\n",
              "      <td>0.103267</td>\n",
              "      <td>0.153390</td>\n",
              "    </tr>\n",
              "    <tr>\n",
              "      <th>4</th>\n",
              "      <td>0.108522</td>\n",
              "      <td>0.144135</td>\n",
              "    </tr>\n",
              "    <tr>\n",
              "      <th>5</th>\n",
              "      <td>0.083157</td>\n",
              "      <td>0.136809</td>\n",
              "    </tr>\n",
              "    <tr>\n",
              "      <th>6</th>\n",
              "      <td>0.087358</td>\n",
              "      <td>0.140366</td>\n",
              "    </tr>\n",
              "    <tr>\n",
              "      <th>7</th>\n",
              "      <td>0.123163</td>\n",
              "      <td>0.154137</td>\n",
              "    </tr>\n",
              "    <tr>\n",
              "      <th>8</th>\n",
              "      <td>0.110909</td>\n",
              "      <td>0.154178</td>\n",
              "    </tr>\n",
              "    <tr>\n",
              "      <th>9</th>\n",
              "      <td>0.083288</td>\n",
              "      <td>0.133452</td>\n",
              "    </tr>\n",
              "    <tr>\n",
              "      <th>10</th>\n",
              "      <td>0.083003</td>\n",
              "      <td>0.141629</td>\n",
              "    </tr>\n",
              "    <tr>\n",
              "      <th>11</th>\n",
              "      <td>0.071415</td>\n",
              "      <td>0.139662</td>\n",
              "    </tr>\n",
              "    <tr>\n",
              "      <th>12</th>\n",
              "      <td>0.103396</td>\n",
              "      <td>0.146335</td>\n",
              "    </tr>\n",
              "    <tr>\n",
              "      <th>13</th>\n",
              "      <td>0.100252</td>\n",
              "      <td>0.146704</td>\n",
              "    </tr>\n",
              "    <tr>\n",
              "      <th>14</th>\n",
              "      <td>0.144625</td>\n",
              "      <td>0.170863</td>\n",
              "    </tr>\n",
              "    <tr>\n",
              "      <th>15</th>\n",
              "      <td>0.089357</td>\n",
              "      <td>0.155665</td>\n",
              "    </tr>\n",
              "    <tr>\n",
              "      <th>16</th>\n",
              "      <td>0.121393</td>\n",
              "      <td>0.148670</td>\n",
              "    </tr>\n",
              "    <tr>\n",
              "      <th>17</th>\n",
              "      <td>0.117896</td>\n",
              "      <td>0.149097</td>\n",
              "    </tr>\n",
              "    <tr>\n",
              "      <th>18</th>\n",
              "      <td>0.092496</td>\n",
              "      <td>0.146494</td>\n",
              "    </tr>\n",
              "    <tr>\n",
              "      <th>19</th>\n",
              "      <td>0.096382</td>\n",
              "      <td>0.137404</td>\n",
              "    </tr>\n",
              "    <tr>\n",
              "      <th>20</th>\n",
              "      <td>0.086924</td>\n",
              "      <td>0.140174</td>\n",
              "    </tr>\n",
              "    <tr>\n",
              "      <th>21</th>\n",
              "      <td>0.107275</td>\n",
              "      <td>0.149704</td>\n",
              "    </tr>\n",
              "    <tr>\n",
              "      <th>22</th>\n",
              "      <td>0.077187</td>\n",
              "      <td>0.133642</td>\n",
              "    </tr>\n",
              "    <tr>\n",
              "      <th>23</th>\n",
              "      <td>0.099357</td>\n",
              "      <td>0.136813</td>\n",
              "    </tr>\n",
              "    <tr>\n",
              "      <th>24</th>\n",
              "      <td>0.090591</td>\n",
              "      <td>0.137682</td>\n",
              "    </tr>\n",
              "    <tr>\n",
              "      <th>25</th>\n",
              "      <td>0.091198</td>\n",
              "      <td>0.133594</td>\n",
              "    </tr>\n",
              "    <tr>\n",
              "      <th>26</th>\n",
              "      <td>0.128358</td>\n",
              "      <td>0.153760</td>\n",
              "    </tr>\n",
              "    <tr>\n",
              "      <th>27</th>\n",
              "      <td>0.066798</td>\n",
              "      <td>0.133180</td>\n",
              "    </tr>\n",
              "    <tr>\n",
              "      <th>28</th>\n",
              "      <td>0.088295</td>\n",
              "      <td>0.137597</td>\n",
              "    </tr>\n",
              "    <tr>\n",
              "      <th>29</th>\n",
              "      <td>0.095390</td>\n",
              "      <td>0.142436</td>\n",
              "    </tr>\n",
              "    <tr>\n",
              "      <th>...</th>\n",
              "      <td>...</td>\n",
              "      <td>...</td>\n",
              "    </tr>\n",
              "    <tr>\n",
              "      <th>9970</th>\n",
              "      <td>0.089312</td>\n",
              "      <td>0.146321</td>\n",
              "    </tr>\n",
              "    <tr>\n",
              "      <th>9971</th>\n",
              "      <td>0.090092</td>\n",
              "      <td>0.135632</td>\n",
              "    </tr>\n",
              "    <tr>\n",
              "      <th>9972</th>\n",
              "      <td>0.081356</td>\n",
              "      <td>0.142835</td>\n",
              "    </tr>\n",
              "    <tr>\n",
              "      <th>9973</th>\n",
              "      <td>0.084581</td>\n",
              "      <td>0.133726</td>\n",
              "    </tr>\n",
              "    <tr>\n",
              "      <th>9974</th>\n",
              "      <td>0.103894</td>\n",
              "      <td>0.138875</td>\n",
              "    </tr>\n",
              "    <tr>\n",
              "      <th>9975</th>\n",
              "      <td>0.116605</td>\n",
              "      <td>0.152474</td>\n",
              "    </tr>\n",
              "    <tr>\n",
              "      <th>9976</th>\n",
              "      <td>0.084513</td>\n",
              "      <td>0.148187</td>\n",
              "    </tr>\n",
              "    <tr>\n",
              "      <th>9977</th>\n",
              "      <td>0.136040</td>\n",
              "      <td>0.163512</td>\n",
              "    </tr>\n",
              "    <tr>\n",
              "      <th>9978</th>\n",
              "      <td>0.105630</td>\n",
              "      <td>0.147716</td>\n",
              "    </tr>\n",
              "    <tr>\n",
              "      <th>9979</th>\n",
              "      <td>0.067942</td>\n",
              "      <td>0.148145</td>\n",
              "    </tr>\n",
              "    <tr>\n",
              "      <th>9980</th>\n",
              "      <td>0.086798</td>\n",
              "      <td>0.134420</td>\n",
              "    </tr>\n",
              "    <tr>\n",
              "      <th>9981</th>\n",
              "      <td>0.100704</td>\n",
              "      <td>0.143597</td>\n",
              "    </tr>\n",
              "    <tr>\n",
              "      <th>9982</th>\n",
              "      <td>0.099455</td>\n",
              "      <td>0.137098</td>\n",
              "    </tr>\n",
              "    <tr>\n",
              "      <th>9983</th>\n",
              "      <td>0.070014</td>\n",
              "      <td>0.133018</td>\n",
              "    </tr>\n",
              "    <tr>\n",
              "      <th>9984</th>\n",
              "      <td>0.101292</td>\n",
              "      <td>0.142737</td>\n",
              "    </tr>\n",
              "    <tr>\n",
              "      <th>9985</th>\n",
              "      <td>0.079254</td>\n",
              "      <td>0.139708</td>\n",
              "    </tr>\n",
              "    <tr>\n",
              "      <th>9986</th>\n",
              "      <td>0.079989</td>\n",
              "      <td>0.137839</td>\n",
              "    </tr>\n",
              "    <tr>\n",
              "      <th>9987</th>\n",
              "      <td>0.092708</td>\n",
              "      <td>0.138161</td>\n",
              "    </tr>\n",
              "    <tr>\n",
              "      <th>9988</th>\n",
              "      <td>0.089277</td>\n",
              "      <td>0.137409</td>\n",
              "    </tr>\n",
              "    <tr>\n",
              "      <th>9989</th>\n",
              "      <td>0.116749</td>\n",
              "      <td>0.148056</td>\n",
              "    </tr>\n",
              "    <tr>\n",
              "      <th>9990</th>\n",
              "      <td>0.108643</td>\n",
              "      <td>0.144065</td>\n",
              "    </tr>\n",
              "    <tr>\n",
              "      <th>9991</th>\n",
              "      <td>0.070918</td>\n",
              "      <td>0.138265</td>\n",
              "    </tr>\n",
              "    <tr>\n",
              "      <th>9992</th>\n",
              "      <td>0.092471</td>\n",
              "      <td>0.136047</td>\n",
              "    </tr>\n",
              "    <tr>\n",
              "      <th>9993</th>\n",
              "      <td>0.113147</td>\n",
              "      <td>0.149033</td>\n",
              "    </tr>\n",
              "    <tr>\n",
              "      <th>9994</th>\n",
              "      <td>0.094909</td>\n",
              "      <td>0.135058</td>\n",
              "    </tr>\n",
              "    <tr>\n",
              "      <th>9995</th>\n",
              "      <td>0.102344</td>\n",
              "      <td>0.146160</td>\n",
              "    </tr>\n",
              "    <tr>\n",
              "      <th>9996</th>\n",
              "      <td>0.112970</td>\n",
              "      <td>0.142586</td>\n",
              "    </tr>\n",
              "    <tr>\n",
              "      <th>9997</th>\n",
              "      <td>0.083916</td>\n",
              "      <td>0.134688</td>\n",
              "    </tr>\n",
              "    <tr>\n",
              "      <th>9998</th>\n",
              "      <td>0.137902</td>\n",
              "      <td>0.177934</td>\n",
              "    </tr>\n",
              "    <tr>\n",
              "      <th>9999</th>\n",
              "      <td>0.109225</td>\n",
              "      <td>0.146847</td>\n",
              "    </tr>\n",
              "  </tbody>\n",
              "</table>\n",
              "<p>10000 rows × 2 columns</p>\n",
              "</div>"
            ],
            "text/plain": [
              "        Return  Volatility\n",
              "0     0.100425    0.147150\n",
              "1     0.072278    0.134690\n",
              "2     0.070023    0.136042\n",
              "3     0.103267    0.153390\n",
              "4     0.108522    0.144135\n",
              "5     0.083157    0.136809\n",
              "6     0.087358    0.140366\n",
              "7     0.123163    0.154137\n",
              "8     0.110909    0.154178\n",
              "9     0.083288    0.133452\n",
              "10    0.083003    0.141629\n",
              "11    0.071415    0.139662\n",
              "12    0.103396    0.146335\n",
              "13    0.100252    0.146704\n",
              "14    0.144625    0.170863\n",
              "15    0.089357    0.155665\n",
              "16    0.121393    0.148670\n",
              "17    0.117896    0.149097\n",
              "18    0.092496    0.146494\n",
              "19    0.096382    0.137404\n",
              "20    0.086924    0.140174\n",
              "21    0.107275    0.149704\n",
              "22    0.077187    0.133642\n",
              "23    0.099357    0.136813\n",
              "24    0.090591    0.137682\n",
              "25    0.091198    0.133594\n",
              "26    0.128358    0.153760\n",
              "27    0.066798    0.133180\n",
              "28    0.088295    0.137597\n",
              "29    0.095390    0.142436\n",
              "...        ...         ...\n",
              "9970  0.089312    0.146321\n",
              "9971  0.090092    0.135632\n",
              "9972  0.081356    0.142835\n",
              "9973  0.084581    0.133726\n",
              "9974  0.103894    0.138875\n",
              "9975  0.116605    0.152474\n",
              "9976  0.084513    0.148187\n",
              "9977  0.136040    0.163512\n",
              "9978  0.105630    0.147716\n",
              "9979  0.067942    0.148145\n",
              "9980  0.086798    0.134420\n",
              "9981  0.100704    0.143597\n",
              "9982  0.099455    0.137098\n",
              "9983  0.070014    0.133018\n",
              "9984  0.101292    0.142737\n",
              "9985  0.079254    0.139708\n",
              "9986  0.079989    0.137839\n",
              "9987  0.092708    0.138161\n",
              "9988  0.089277    0.137409\n",
              "9989  0.116749    0.148056\n",
              "9990  0.108643    0.144065\n",
              "9991  0.070918    0.138265\n",
              "9992  0.092471    0.136047\n",
              "9993  0.113147    0.149033\n",
              "9994  0.094909    0.135058\n",
              "9995  0.102344    0.146160\n",
              "9996  0.112970    0.142586\n",
              "9997  0.083916    0.134688\n",
              "9998  0.137902    0.177934\n",
              "9999  0.109225    0.146847\n",
              "\n",
              "[10000 rows x 2 columns]"
            ]
          },
          "execution_count": 17,
          "metadata": {},
          "output_type": "execute_result"
        }
      ]
    },
    {
      "cell_type": "code",
      "metadata": {
        "id": "HD4Nv7Wam_aM",
        "outputId": "b9e2ad86-dd4e-466c-be90-97f0355f5666"
      },
      "source": [
        "portfolia.plot(x = 'Volatility', y = 'Return', kind = 'scatter', figsize = (12,8));\n",
        "\n",
        "plt.xlabel('Expected Volatility')\n",
        "plt.ylabel('Expected Return')"
      ],
      "execution_count": null,
      "outputs": [
        {
          "data": {
            "text/plain": [
              "Text(0,0.5,'Expected Return')"
            ]
          },
          "execution_count": 18,
          "metadata": {},
          "output_type": "execute_result"
        },
        {
          "data": {
            "image/png": "[encoded data removed]",
            "text/plain": [
              "<Figure size 864x576 with 1 Axes>"
            ]
          },
          "metadata": {},
          "output_type": "display_data"
        }
      ]
    },
    {
      "cell_type": "code",
      "metadata": {
        "id": "_MGN16lsm_aN"
      },
      "source": [
        ""
      ],
      "execution_count": null,
      "outputs": []
    }
  ]
}